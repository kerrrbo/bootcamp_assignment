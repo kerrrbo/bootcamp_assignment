{
 "cells": [
  {
   "cell_type": "code",
   "execution_count": 27,
   "id": "57744553-98c3-4b9d-94e4-08dd91130550",
   "metadata": {},
   "outputs": [],
   "source": [
    "import pandas as pd"
   ]
  },
  {
   "cell_type": "code",
   "execution_count": null,
   "id": "73c34bf4-31dc-4a87-babc-4d08ef11e5de",
   "metadata": {},
   "outputs": [],
   "source": [
    "#Q1\n",
    "df_excel = pd.read_excel('관서별 5대범죄 발생 및 검거.xlsx') \n",
    "print(df_excel)"
   ]
  },
  {
   "cell_type": "code",
   "execution_count": null,
   "id": "3c831f14-9219-4693-aab1-c9d5f482d2e9",
   "metadata": {},
   "outputs": [],
   "source": [
    "\n",
    "#Q2\n",
    "pol_list = {'서대문서': '서대문구', '수서서': '강남구', '강서서': '강서구', '서초서': '서초구',\n",
    "'서부서': '은평구', '중부서': '중구', '종로서': '종로구', '남대문서': '중구',\n",
    "'혜화서': '종로구', '용산서': '용산구', '성북서': '성북구', '동대문서': '동대문구',\n",
    "'마포서': '마포구', '영등포서': '영등포구', '성동서': '성동구', '동작서': '동작구',\n",
    "'광진서': '광진구', '강북서': '강북구', '금천서': '금천구', '중랑서': '중랑구',\n",
    "'강남서': '강남구', '관악서': '관악구', '강동서': '강동구', '종암서': '성북구', \n",
    "'구로서': '구로구', '양천서': '양천구', '송파서': '송파구', '노원서': '노원구', \n",
    "'방배서': '서초구', '은평서': '은평구', '도봉서': '도봉구'\n",
    "}\n",
    "\n",
    "df_excel[\"구별\"] = df_excel[\"관서명\"].map(pol_list).fillna(\"구 없음\")\n",
    "\n",
    "print(df_excel)"
   ]
  },
  {
   "cell_type": "code",
   "execution_count": 30,
   "id": "d84d7a77-261a-4135-81e8-4c8bda216313",
   "metadata": {},
   "outputs": [],
   "source": [
    "#Q3\n",
    "df_excel = pd.pivot_table(df_excel, index='관서명', aggfunc='sum')\n",
    "df_excel = df_excel.set_index(\"구별\")"
   ]
  },
  {
   "cell_type": "code",
   "execution_count": 31,
   "id": "851034a6-8e19-41cf-a70a-97c0962434ff",
   "metadata": {},
   "outputs": [],
   "source": [
    "#Q4\n",
    "df_excel = df_excel.drop(labels='구 없음', axis=0)"
   ]
  },
  {
   "cell_type": "code",
   "execution_count": 32,
   "id": "7e7e7411-e085-4eee-8e0b-669d1bf26ab4",
   "metadata": {},
   "outputs": [],
   "source": [
    "#Q5\n",
    "a = [\"강간\", \"강도\", \"살인\", \"절도\", \"폭력\", \"소계\"]\n",
    "for word in a:\n",
    "    if word != \"소계\":\n",
    "        df_excel[f\"{word}검거율\"] = df_excel[f\"{word}(검거)\"] / df_excel[f\"{word}(발생)\"] * 100\n",
    "    elif word == \"소계\":\n",
    "        df_excel[\"검거율\"] = df_excel[f\"{word}(검거)\"] / df_excel[f\"{word}(발생)\"] * 100"
   ]
  },
  {
   "cell_type": "code",
   "execution_count": 33,
   "id": "d15200a2-23ff-4913-9328-af5500a5348b",
   "metadata": {},
   "outputs": [],
   "source": [
    "#Q6\n",
    "del_1 = [\"강간(검거)\",\"강도(검거)\",\"살인(검거)\",\"절도(검거)\",\"폭력(검거)\", \"소계(발생)\",\"소계(검거)\"]\n",
    "for word_1 in del_1:\n",
    "    del df_excel[word_1]"
   ]
  },
  {
   "cell_type": "code",
   "execution_count": 34,
   "id": "d589f71b-2092-454d-b124-44dc59e80ee2",
   "metadata": {},
   "outputs": [],
   "source": [
    "#Q7\n",
    "df_excel.rename(columns = lambda x : x.replace(\"(발생)\", \"\"), inplace = True)"
   ]
  },
  {
   "cell_type": "code",
   "execution_count": null,
   "id": "ecc37c7b-c945-40d1-a899-4e50682b080f",
   "metadata": {},
   "outputs": [],
   "source": [
    "#추가도전과제 1\n",
    "df_csv = pd.read_csv('pop_kor.csv')\n",
    "df_csv.set_index(\"구별\", inplace = True)\n",
    "print(df_csv)"
   ]
  },
  {
   "cell_type": "code",
   "execution_count": null,
   "id": "5b8dd0b7",
   "metadata": {},
   "outputs": [],
   "source": [
    "#추가도전과제 2\n",
    "df_excel = df_excel.join(df_csv)\n",
    "print(df_excel)"
   ]
  },
  {
   "cell_type": "code",
   "execution_count": null,
   "id": "7c1ca246-28b5-4961-95b3-e74e0ef13a9f",
   "metadata": {},
   "outputs": [],
   "source": [
    "#추가도전과제 3\n",
    "df_excel = df_excel.sort_values(by='검거율')\n",
    "print(df_excel)"
   ]
  },
  {
   "cell_type": "code",
   "execution_count": null,
   "id": "5a14e6b1",
   "metadata": {},
   "outputs": [],
   "source": []
  }
 ],
 "metadata": {
  "kernelspec": {
   "display_name": "lee_1",
   "language": "python",
   "name": "lee"
  },
  "language_info": {
   "codemirror_mode": {
    "name": "ipython",
    "version": 3
   },
   "file_extension": ".py",
   "mimetype": "text/x-python",
   "name": "python",
   "nbconvert_exporter": "python",
   "pygments_lexer": "ipython3",
   "version": "3.12.7"
  }
 },
 "nbformat": 4,
 "nbformat_minor": 5
}
